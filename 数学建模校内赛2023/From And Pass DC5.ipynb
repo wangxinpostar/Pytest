{
 "cells": [
  {
   "cell_type": "code",
   "execution_count": 113,
   "id": "9f9d01d5",
   "metadata": {},
   "outputs": [],
   "source": [
    "import pandas as pd\n",
    "import networkx as nx\n",
    "from datetime import datetime\n",
    "\n",
    "# 读取数据表格\n",
    "df = pd.read_excel(r'C:\\Users\\wangx\\Desktop\\附件1：物流网络历史货量数据.xlsx')\n",
    "\n",
    "# 将日期字符串转换为时间戳\n",
    "df['日期'] = pd.to_datetime(df['日期'], format='%Y-%m-%d')\n",
    "df['日期'] = df['日期'].apply(lambda x: x.timestamp())"
   ]
  },
  {
   "cell_type": "code",
   "execution_count": 116,
   "id": "f226aa4c",
   "metadata": {},
   "outputs": [
    {
     "data": {
      "text/plain": [
       "'以DC5为终点的所有边的前驱节点：'"
      ]
     },
     "metadata": {},
     "output_type": "display_data"
    },
    {
     "data": {
      "text/plain": [
       "'DC8'"
      ]
     },
     "metadata": {},
     "output_type": "display_data"
    },
    {
     "data": {
      "text/plain": [
       "'DC19'"
      ]
     },
     "metadata": {},
     "output_type": "display_data"
    },
    {
     "data": {
      "text/plain": [
       "'DC36'"
      ]
     },
     "metadata": {},
     "output_type": "display_data"
    },
    {
     "data": {
      "text/plain": [
       "'DC10'"
      ]
     },
     "metadata": {},
     "output_type": "display_data"
    },
    {
     "data": {
      "text/plain": [
       "'DC17'"
      ]
     },
     "metadata": {},
     "output_type": "display_data"
    },
    {
     "data": {
      "text/plain": [
       "'以DC5为起点的所有边的后继节点：'"
      ]
     },
     "metadata": {},
     "output_type": "display_data"
    }
   ],
   "source": [
    "# 创建有向图对象\n",
    "graph = nx.DiGraph()\n",
    "\n",
    "# 指定起始时间和截止时间\n",
    "Timestampfrom = datetime(2022, 1, 1, 0, 0).timestamp()\n",
    "Timestampto = datetime(2022, 1, 31, 0, 0).timestamp()\n",
    "\n",
    "# 遍历数据表格\n",
    "for index, row in df.iterrows():\n",
    "    # 获取场地1、场地2、日期和货量\n",
    "    site1, site2, date, quantity = row\n",
    "    # 只处理指定时间范围内的数据\n",
    "    if date >= Timestampfrom and date <= Timestampto:\n",
    "        # 去重\n",
    "        if (site1, site2) not in graph.edges():\n",
    "            # 添加边的权重\n",
    "            graph.add_edge(site1, site2, weight=quantity)\n",
    "\n",
    "# 找出DC5的前驱节点\n",
    "predecessors = list(graph.predecessors('DC5'))\n",
    "display(\"以DC5为终点的所有边的前驱节点：\")\n",
    "for predecessors in predecessors:\n",
    "    display(predecessors)\n",
    "\n",
    "# 找出DC5的后继节点\n",
    "successors = list(graph.successors('DC5'))\n",
    "display(\"以DC5为起点的所有边的后继节点：\")\n",
    "for successors in successors:\n",
    "    display(successors)"
   ]
  },
  {
   "cell_type": "code",
   "execution_count": null,
   "id": "5e910f53",
   "metadata": {},
   "outputs": [],
   "source": []
  }
 ],
 "metadata": {
  "kernelspec": {
   "display_name": "Python 3 (ipykernel)",
   "language": "python",
   "name": "python3"
  },
  "language_info": {
   "codemirror_mode": {
    "name": "ipython",
    "version": 3
   },
   "file_extension": ".py",
   "mimetype": "text/x-python",
   "name": "python",
   "nbconvert_exporter": "python",
   "pygments_lexer": "ipython3",
   "version": "3.9.0"
  },
  "toc": {
   "base_numbering": 1,
   "nav_menu": {},
   "number_sections": true,
   "sideBar": true,
   "skip_h1_title": false,
   "title_cell": "Table of Contents",
   "title_sidebar": "Contents",
   "toc_cell": false,
   "toc_position": {},
   "toc_section_display": true,
   "toc_window_display": false
  },
  "varInspector": {
   "cols": {
    "lenName": 16,
    "lenType": 16,
    "lenVar": 40
   },
   "kernels_config": {
    "python": {
     "delete_cmd_postfix": "",
     "delete_cmd_prefix": "del ",
     "library": "var_list.py",
     "varRefreshCmd": "print(var_dic_list())"
    },
    "r": {
     "delete_cmd_postfix": ") ",
     "delete_cmd_prefix": "rm(",
     "library": "var_list.r",
     "varRefreshCmd": "cat(var_dic_list()) "
    }
   },
   "types_to_exclude": [
    "module",
    "function",
    "builtin_function_or_method",
    "instance",
    "_Feature"
   ],
   "window_display": false
  }
 },
 "nbformat": 4,
 "nbformat_minor": 5
}
